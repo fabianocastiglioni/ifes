{
  "nbformat": 4,
  "nbformat_minor": 0,
  "metadata": {
    "colab": {
      "provenance": [],
      "include_colab_link": true
    },
    "kernelspec": {
      "name": "python3",
      "display_name": "Python 3"
    },
    "language_info": {
      "name": "python"
    }
  },
  "cells": [
    {
      "cell_type": "markdown",
      "metadata": {
        "id": "view-in-github",
        "colab_type": "text"
      },
      "source": [
        "<a href=\"https://colab.research.google.com/github/fabianocastiglioni/ifes/blob/main/aula7_ensemble_titanic.ipynb\" target=\"_parent\"><img src=\"https://colab.research.google.com/assets/colab-badge.svg\" alt=\"Open In Colab\"/></a>"
      ]
    },
    {
      "cell_type": "markdown",
      "source": [
        "Aluno: Fabiano Baptista Castiglioni\n",
        "Matrícula: 20231DEVAI0114"
      ],
      "metadata": {
        "id": "B84hx4gqfFcn"
      }
    },
    {
      "cell_type": "code",
      "execution_count": null,
      "metadata": {
        "colab": {
          "base_uri": "https://localhost:8080/"
        },
        "id": "KchSRfdkjIqU",
        "outputId": "3e658b68-ba24-44b3-977f-1fc780dc7435"
      },
      "outputs": [
        {
          "output_type": "stream",
          "name": "stdout",
          "text": [
            "Archive:  titanic.zip\n",
            "  inflating: gender_submission.csv   \n",
            "  inflating: test.csv                \n",
            "  inflating: train.csv               \n"
          ]
        }
      ],
      "source": [
        "!unzip titanic.zip"
      ]
    },
    {
      "cell_type": "code",
      "source": [
        "import pandas as pd\n",
        "data = pd.read_csv(\"train.csv\")\n",
        "data.dtypes"
      ],
      "metadata": {
        "colab": {
          "base_uri": "https://localhost:8080/"
        },
        "id": "6Vis8I-KoAjz",
        "outputId": "0f3a06af-ff5e-42ce-acb7-59ec5cb47513"
      },
      "execution_count": null,
      "outputs": [
        {
          "output_type": "execute_result",
          "data": {
            "text/plain": [
              "PassengerId      int64\n",
              "Survived         int64\n",
              "Pclass           int64\n",
              "Name            object\n",
              "Sex             object\n",
              "Age            float64\n",
              "SibSp            int64\n",
              "Parch            int64\n",
              "Ticket          object\n",
              "Fare           float64\n",
              "Cabin           object\n",
              "Embarked        object\n",
              "dtype: object"
            ]
          },
          "metadata": {},
          "execution_count": 2
        }
      ]
    },
    {
      "cell_type": "code",
      "source": [
        "y = data['Survived']\n",
        "y"
      ],
      "metadata": {
        "colab": {
          "base_uri": "https://localhost:8080/"
        },
        "id": "wonK9MJtouZp",
        "outputId": "abb968c5-0141-482b-a2eb-80b5a9bb8d18"
      },
      "execution_count": null,
      "outputs": [
        {
          "output_type": "execute_result",
          "data": {
            "text/plain": [
              "0      0\n",
              "1      1\n",
              "2      1\n",
              "3      1\n",
              "4      0\n",
              "      ..\n",
              "886    0\n",
              "887    1\n",
              "888    0\n",
              "889    1\n",
              "890    0\n",
              "Name: Survived, Length: 891, dtype: int64"
            ]
          },
          "metadata": {},
          "execution_count": 3
        }
      ]
    },
    {
      "cell_type": "code",
      "source": [
        "X = data.drop('Survived', axis=1)\n",
        "X.columns"
      ],
      "metadata": {
        "colab": {
          "base_uri": "https://localhost:8080/"
        },
        "id": "ftpbtGLjpOSB",
        "outputId": "f99a0b6b-7f1a-4b55-dedf-fcddc17a9ade"
      },
      "execution_count": null,
      "outputs": [
        {
          "output_type": "execute_result",
          "data": {
            "text/plain": [
              "Index(['PassengerId', 'Pclass', 'Name', 'Sex', 'Age', 'SibSp', 'Parch',\n",
              "       'Ticket', 'Fare', 'Cabin', 'Embarked'],\n",
              "      dtype='object')"
            ]
          },
          "metadata": {},
          "execution_count": 4
        }
      ]
    },
    {
      "cell_type": "code",
      "source": [
        "for column in X.columns:\n",
        "  print(f\"{column:>12} {len(set(X[column])):4} {X[column].dtypes}\")"
      ],
      "metadata": {
        "colab": {
          "base_uri": "https://localhost:8080/"
        },
        "id": "azhU_UImprx8",
        "outputId": "a48da322-85e9-4583-d608-c4fa00512cc6"
      },
      "execution_count": null,
      "outputs": [
        {
          "output_type": "stream",
          "name": "stdout",
          "text": [
            " PassengerId  891 int64\n",
            "      Pclass    3 int64\n",
            "        Name  891 object\n",
            "         Sex    2 object\n",
            "         Age  265 float64\n",
            "       SibSp    7 int64\n",
            "       Parch    7 int64\n",
            "      Ticket  681 object\n",
            "        Fare  248 float64\n",
            "       Cabin  148 object\n",
            "    Embarked    4 object\n"
          ]
        }
      ]
    },
    {
      "cell_type": "code",
      "source": [
        "indesejadas = ['PassengerId', 'Name', 'Ticket', 'Cabin']\n",
        "Xdrop = X.drop(indesejadas, axis=1)\n",
        "Xdrop.columns"
      ],
      "metadata": {
        "colab": {
          "base_uri": "https://localhost:8080/"
        },
        "id": "WUyz1pLIrsWv",
        "outputId": "e6190a00-6ce8-4dae-9c29-5bdb0ee841a9"
      },
      "execution_count": null,
      "outputs": [
        {
          "output_type": "execute_result",
          "data": {
            "text/plain": [
              "Index(['Pclass', 'Sex', 'Age', 'SibSp', 'Parch', 'Fare', 'Embarked'], dtype='object')"
            ]
          },
          "metadata": {},
          "execution_count": 6
        }
      ]
    },
    {
      "cell_type": "code",
      "source": [
        "Xnum = Xdrop.select_dtypes('number')\n",
        "Xnum.columns"
      ],
      "metadata": {
        "colab": {
          "base_uri": "https://localhost:8080/"
        },
        "id": "EzPpGQcqsLS5",
        "outputId": "90ff53b2-ca7a-4068-d066-63ec625ef93d"
      },
      "execution_count": null,
      "outputs": [
        {
          "output_type": "execute_result",
          "data": {
            "text/plain": [
              "Index(['Pclass', 'Age', 'SibSp', 'Parch', 'Fare'], dtype='object')"
            ]
          },
          "metadata": {},
          "execution_count": 7
        }
      ]
    },
    {
      "cell_type": "code",
      "source": [
        "for column in Xnum.columns:\n",
        "  print(f\"{column:>12} {sum(Xnum[column].isnull())}\")"
      ],
      "metadata": {
        "colab": {
          "base_uri": "https://localhost:8080/"
        },
        "id": "SW75kGbqseyA",
        "outputId": "cafa7edf-ec02-4a5a-9e93-bb5a5f1850e2"
      },
      "execution_count": null,
      "outputs": [
        {
          "output_type": "stream",
          "name": "stdout",
          "text": [
            "      Pclass 0\n",
            "         Age 177\n",
            "       SibSp 0\n",
            "       Parch 0\n",
            "        Fare 0\n"
          ]
        }
      ]
    },
    {
      "cell_type": "code",
      "source": [
        "from sklearn.impute import SimpleImputer\n",
        "imputer = SimpleImputer(strategy=\"median\")\n",
        "XnumLimpo = imputer.fit_transform(Xnum)\n",
        "XnumLimpo"
      ],
      "metadata": {
        "colab": {
          "base_uri": "https://localhost:8080/"
        },
        "id": "mnHNjoAvs_wu",
        "outputId": "041bc70a-e794-430b-c45d-091859a4ff80"
      },
      "execution_count": null,
      "outputs": [
        {
          "output_type": "execute_result",
          "data": {
            "text/plain": [
              "array([[ 3.    , 22.    ,  1.    ,  0.    ,  7.25  ],\n",
              "       [ 1.    , 38.    ,  1.    ,  0.    , 71.2833],\n",
              "       [ 3.    , 26.    ,  0.    ,  0.    ,  7.925 ],\n",
              "       ...,\n",
              "       [ 3.    , 28.    ,  1.    ,  2.    , 23.45  ],\n",
              "       [ 1.    , 26.    ,  0.    ,  0.    , 30.    ],\n",
              "       [ 3.    , 32.    ,  0.    ,  0.    ,  7.75  ]])"
            ]
          },
          "metadata": {},
          "execution_count": 9
        }
      ]
    },
    {
      "cell_type": "code",
      "source": [
        "Xcat = Xdrop.select_dtypes('object')\n",
        "Xcat.columns"
      ],
      "metadata": {
        "colab": {
          "base_uri": "https://localhost:8080/"
        },
        "id": "lnzQUiGHt7z-",
        "outputId": "1a014593-d5fe-4330-c06f-b0355d41e022"
      },
      "execution_count": null,
      "outputs": [
        {
          "output_type": "execute_result",
          "data": {
            "text/plain": [
              "Index(['Sex', 'Embarked'], dtype='object')"
            ]
          },
          "metadata": {},
          "execution_count": 10
        }
      ]
    },
    {
      "cell_type": "code",
      "source": [
        "for column in Xcat.columns:\n",
        "  print(f\"{column:>12} {sum(Xcat[column].isnull())}\")"
      ],
      "metadata": {
        "colab": {
          "base_uri": "https://localhost:8080/"
        },
        "id": "dTDddXoUuFxJ",
        "outputId": "bea33f9f-a386-4e6a-e061-d34101321836"
      },
      "execution_count": null,
      "outputs": [
        {
          "output_type": "stream",
          "name": "stdout",
          "text": [
            "         Sex 0\n",
            "    Embarked 2\n"
          ]
        }
      ]
    },
    {
      "cell_type": "code",
      "source": [
        "from sklearn.impute import SimpleImputer\n",
        "imputer = SimpleImputer(strategy=\"most_frequent\")\n",
        "XcatLimpo = imputer.fit_transform(Xcat)\n",
        "XcatLimpo"
      ],
      "metadata": {
        "colab": {
          "base_uri": "https://localhost:8080/"
        },
        "id": "wiZT_Od6uZHj",
        "outputId": "d7a15f67-7126-46ae-8d0a-676346ae03c2"
      },
      "execution_count": null,
      "outputs": [
        {
          "output_type": "execute_result",
          "data": {
            "text/plain": [
              "array([['male', 'S'],\n",
              "       ['female', 'C'],\n",
              "       ['female', 'S'],\n",
              "       ...,\n",
              "       ['female', 'S'],\n",
              "       ['male', 'C'],\n",
              "       ['male', 'Q']], dtype=object)"
            ]
          },
          "metadata": {},
          "execution_count": 12
        }
      ]
    },
    {
      "cell_type": "code",
      "source": [
        "from sklearn.preprocessing import OneHotEncoder\n",
        "encoder = OneHotEncoder()\n",
        "XcatHot = encoder.fit_transform(XcatLimpo)\n",
        "XcatHot"
      ],
      "metadata": {
        "colab": {
          "base_uri": "https://localhost:8080/"
        },
        "id": "22G20MabvBSP",
        "outputId": "9a6b5817-dd43-43b1-913d-c34ff26f6e0d"
      },
      "execution_count": null,
      "outputs": [
        {
          "output_type": "execute_result",
          "data": {
            "text/plain": [
              "<891x5 sparse matrix of type '<class 'numpy.float64'>'\n",
              "\twith 1782 stored elements in Compressed Sparse Row format>"
            ]
          },
          "metadata": {},
          "execution_count": 13
        }
      ]
    },
    {
      "cell_type": "code",
      "source": [
        "XcatHot.toarray()"
      ],
      "metadata": {
        "colab": {
          "base_uri": "https://localhost:8080/"
        },
        "id": "giIeHzn3wTYu",
        "outputId": "b01755fb-c9bf-4434-e5a3-f66dd9ecea37"
      },
      "execution_count": null,
      "outputs": [
        {
          "output_type": "execute_result",
          "data": {
            "text/plain": [
              "array([[0., 1., 0., 0., 1.],\n",
              "       [1., 0., 1., 0., 0.],\n",
              "       [1., 0., 0., 0., 1.],\n",
              "       ...,\n",
              "       [1., 0., 0., 0., 1.],\n",
              "       [0., 1., 1., 0., 0.],\n",
              "       [0., 1., 0., 1., 0.]])"
            ]
          },
          "metadata": {},
          "execution_count": 14
        }
      ]
    },
    {
      "cell_type": "code",
      "source": [
        "import numpy as np\n",
        "Xtratado = np.c_[XnumLimpo, XcatHot.toarray()]\n",
        "Xtratado.shape"
      ],
      "metadata": {
        "colab": {
          "base_uri": "https://localhost:8080/"
        },
        "id": "Fo5dEW-7v50A",
        "outputId": "5be4a480-43c7-49a1-be7a-0ea41612e6c2"
      },
      "execution_count": null,
      "outputs": [
        {
          "output_type": "execute_result",
          "data": {
            "text/plain": [
              "(891, 10)"
            ]
          },
          "metadata": {},
          "execution_count": 15
        }
      ]
    },
    {
      "cell_type": "code",
      "source": [
        "Xtratado"
      ],
      "metadata": {
        "colab": {
          "base_uri": "https://localhost:8080/"
        },
        "id": "18nt20eowQT0",
        "outputId": "09ad8ebb-07b3-4fa2-83a9-9438b12a53c8"
      },
      "execution_count": null,
      "outputs": [
        {
          "output_type": "execute_result",
          "data": {
            "text/plain": [
              "array([[ 3., 22.,  1., ...,  0.,  0.,  1.],\n",
              "       [ 1., 38.,  1., ...,  1.,  0.,  0.],\n",
              "       [ 3., 26.,  0., ...,  0.,  0.,  1.],\n",
              "       ...,\n",
              "       [ 3., 28.,  1., ...,  0.,  0.,  1.],\n",
              "       [ 1., 26.,  0., ...,  1.,  0.,  0.],\n",
              "       [ 3., 32.,  0., ...,  0.,  1.,  0.]])"
            ]
          },
          "metadata": {},
          "execution_count": 52
        }
      ]
    },
    {
      "cell_type": "code",
      "source": [
        "import pandas as pd\n",
        "train = pd.read_csv('train.csv')\n",
        "test = pd.read_csv('test.csv')\n",
        "train.columns.isin(test.columns)"
      ],
      "metadata": {
        "colab": {
          "base_uri": "https://localhost:8080/"
        },
        "id": "hO71vZoEwsZf",
        "outputId": "7b163dae-3e51-4cf2-b872-aab5a68da728"
      },
      "execution_count": null,
      "outputs": [
        {
          "output_type": "execute_result",
          "data": {
            "text/plain": [
              "array([ True, False,  True,  True,  True,  True,  True,  True,  True,\n",
              "        True,  True,  True])"
            ]
          },
          "metadata": {},
          "execution_count": 16
        }
      ]
    },
    {
      "cell_type": "code",
      "source": [
        "train.columns[~train.columns.isin(test.columns)]"
      ],
      "metadata": {
        "colab": {
          "base_uri": "https://localhost:8080/"
        },
        "id": "ZIT03vu3xJKt",
        "outputId": "f52bd4e8-e655-40e0-eae9-953a5298844b"
      },
      "execution_count": null,
      "outputs": [
        {
          "output_type": "execute_result",
          "data": {
            "text/plain": [
              "Index(['Survived'], dtype='object')"
            ]
          },
          "metadata": {},
          "execution_count": 17
        }
      ]
    },
    {
      "cell_type": "code",
      "source": [
        "from sklearn.base import BaseEstimator, TransformerMixin\n",
        "\n",
        "class AtributosDesejados(BaseEstimator, TransformerMixin):\n",
        "  def fit(self, X, y=None):\n",
        "    self.colunasIndesejadas_ = ['PassengerId', 'Name', 'Ticket', 'Cabin']\n",
        "    return self\n",
        "  def transform(self, X, y=None):\n",
        "    return X.drop(self.colunasIndesejadas_, axis=1)\n",
        "\n",
        "atributosDesejados = AtributosDesejados()\n",
        "Xdrop = atributosDesejados.fit_transform(X)\n",
        "Xdrop.columns"
      ],
      "metadata": {
        "colab": {
          "base_uri": "https://localhost:8080/"
        },
        "id": "kcFzdP2axUX0",
        "outputId": "f29360b1-95c3-41a1-b15c-ccfe94f9caa1"
      },
      "execution_count": null,
      "outputs": [
        {
          "output_type": "execute_result",
          "data": {
            "text/plain": [
              "Index(['Pclass', 'Sex', 'Age', 'SibSp', 'Parch', 'Fare', 'Embarked'], dtype='object')"
            ]
          },
          "metadata": {},
          "execution_count": 18
        }
      ]
    },
    {
      "cell_type": "code",
      "source": [
        "from sklearn.base import BaseEstimator, TransformerMixin\n",
        "\n",
        "class AtributosNumericos(BaseEstimator, TransformerMixin):\n",
        "  def fit(self, X, y=None):\n",
        "    self.colunasNumericas = X.select_dtypes(include='number').columns\n",
        "    return self\n",
        "  def transform(self, X, y=None):\n",
        "    return X[self.colunasNumericas]\n",
        "\n",
        "atributosNumericos = AtributosNumericos()\n",
        "Xnum = atributosNumericos.fit_transform(Xdrop)\n",
        "Xnum.columns"
      ],
      "metadata": {
        "colab": {
          "base_uri": "https://localhost:8080/"
        },
        "id": "YMq3brZmzcXB",
        "outputId": "3f9459f6-0f39-4c3f-ed37-a671650545c4"
      },
      "execution_count": null,
      "outputs": [
        {
          "output_type": "execute_result",
          "data": {
            "text/plain": [
              "Index(['Pclass', 'Age', 'SibSp', 'Parch', 'Fare'], dtype='object')"
            ]
          },
          "metadata": {},
          "execution_count": 19
        }
      ]
    },
    {
      "cell_type": "code",
      "source": [
        "from sklearn.pipeline import Pipeline\n",
        "from sklearn.impute import SimpleImputer\n",
        "from sklearn.preprocessing import StandardScaler\n",
        "\n",
        "pipenum = Pipeline([\n",
        "    ('atributos_numericos', AtributosNumericos()),\n",
        "    ('imputer', SimpleImputer(strategy=\"median\")),\n",
        "    ('scaler', StandardScaler())\n",
        "])\n",
        "\n",
        "XnumLimpo = pipenum.fit_transform(Xdrop)\n",
        "XnumLimpo"
      ],
      "metadata": {
        "colab": {
          "base_uri": "https://localhost:8080/"
        },
        "id": "ZhrIoSup0lVF",
        "outputId": "496d1f0c-bf27-4c36-f523-284b1d6758a6"
      },
      "execution_count": null,
      "outputs": [
        {
          "output_type": "execute_result",
          "data": {
            "text/plain": [
              "array([[ 0.82737724, -0.56573646,  0.43279337, -0.47367361, -0.50244517],\n",
              "       [-1.56610693,  0.66386103,  0.43279337, -0.47367361,  0.78684529],\n",
              "       [ 0.82737724, -0.25833709, -0.4745452 , -0.47367361, -0.48885426],\n",
              "       ...,\n",
              "       [ 0.82737724, -0.1046374 ,  0.43279337,  2.00893337, -0.17626324],\n",
              "       [-1.56610693, -0.25833709, -0.4745452 , -0.47367361, -0.04438104],\n",
              "       [ 0.82737724,  0.20276197, -0.4745452 , -0.47367361, -0.49237783]])"
            ]
          },
          "metadata": {},
          "execution_count": 20
        }
      ]
    },
    {
      "cell_type": "code",
      "source": [
        "from sklearn.base import BaseEstimator, TransformerMixin\n",
        "\n",
        "class AtributosCategoricos(BaseEstimator, TransformerMixin):\n",
        "  def fit(self, X, y=None):\n",
        "    self.colunasCategoricas = X.select_dtypes(include='object').columns\n",
        "    return self\n",
        "  def transform(self, X, y=None):\n",
        "    return X[self.colunasCategoricas]\n",
        "\n",
        "atributosCategoricos = AtributosCategoricos()\n",
        "Xcat = atributosCategoricos.fit_transform(Xdrop)\n",
        "Xcat.columns"
      ],
      "metadata": {
        "colab": {
          "base_uri": "https://localhost:8080/"
        },
        "id": "pajzd_Rl2TTY",
        "outputId": "b3e73c4d-d25b-4730-ff6e-8979c21b6e9b"
      },
      "execution_count": null,
      "outputs": [
        {
          "output_type": "execute_result",
          "data": {
            "text/plain": [
              "Index(['Sex', 'Embarked'], dtype='object')"
            ]
          },
          "metadata": {},
          "execution_count": 21
        }
      ]
    },
    {
      "cell_type": "code",
      "source": [
        "from sklearn.pipeline import Pipeline\n",
        "from sklearn.impute import SimpleImputer\n",
        "from sklearn.preprocessing import OneHotEncoder\n",
        "\n",
        "pipecat = Pipeline([\n",
        "    ('atributos_categoricos', AtributosCategoricos()),\n",
        "    ('imputer', SimpleImputer(strategy='most_frequent')),\n",
        "    ('encoder', OneHotEncoder())\n",
        "])\n",
        "\n",
        "XcatLimpo = pipecat.fit_transform(Xdrop)\n",
        "XcatLimpo.toarray()"
      ],
      "metadata": {
        "colab": {
          "base_uri": "https://localhost:8080/"
        },
        "id": "1EzXFMSb3Bb4",
        "outputId": "263c2699-ac34-4e9a-966f-00b0336ad236"
      },
      "execution_count": null,
      "outputs": [
        {
          "output_type": "execute_result",
          "data": {
            "text/plain": [
              "array([[0., 1., 0., 0., 1.],\n",
              "       [1., 0., 1., 0., 0.],\n",
              "       [1., 0., 0., 0., 1.],\n",
              "       ...,\n",
              "       [1., 0., 0., 0., 1.],\n",
              "       [0., 1., 1., 0., 0.],\n",
              "       [0., 1., 0., 1., 0.]])"
            ]
          },
          "metadata": {},
          "execution_count": 22
        }
      ]
    },
    {
      "cell_type": "code",
      "source": [
        "from sklearn.pipeline import FeatureUnion\n",
        "\n",
        "unecaracteristicas = FeatureUnion([\n",
        "    ('pipenum', pipenum),\n",
        "    ('pipecat', pipecat)\n",
        "])\n",
        "\n",
        "Xtratado = unecaracteristicas.fit_transform(Xdrop)\n",
        "Xtratado.toarray()"
      ],
      "metadata": {
        "colab": {
          "base_uri": "https://localhost:8080/"
        },
        "id": "0F-KAt0N3sgF",
        "outputId": "7621937f-63a8-4687-bc05-bc9163e19680"
      },
      "execution_count": null,
      "outputs": [
        {
          "output_type": "execute_result",
          "data": {
            "text/plain": [
              "array([[ 0.82737724, -0.56573646,  0.43279337, ...,  0.        ,\n",
              "         0.        ,  1.        ],\n",
              "       [-1.56610693,  0.66386103,  0.43279337, ...,  1.        ,\n",
              "         0.        ,  0.        ],\n",
              "       [ 0.82737724, -0.25833709, -0.4745452 , ...,  0.        ,\n",
              "         0.        ,  1.        ],\n",
              "       ...,\n",
              "       [ 0.82737724, -0.1046374 ,  0.43279337, ...,  0.        ,\n",
              "         0.        ,  1.        ],\n",
              "       [-1.56610693, -0.25833709, -0.4745452 , ...,  1.        ,\n",
              "         0.        ,  0.        ],\n",
              "       [ 0.82737724,  0.20276197, -0.4745452 , ...,  0.        ,\n",
              "         1.        ,  0.        ]])"
            ]
          },
          "metadata": {},
          "execution_count": 23
        }
      ]
    },
    {
      "cell_type": "code",
      "source": [
        "from sklearn.pipeline import Pipeline\n",
        "\n",
        "preproc = Pipeline([\n",
        "    ('atributos_desejados', AtributosDesejados()),\n",
        "    ('unecaracteristicas', unecaracteristicas)\n",
        "])\n",
        "\n",
        "Xtratado = preproc.fit_transform(X)\n",
        "Xtratado.toarray()"
      ],
      "metadata": {
        "colab": {
          "base_uri": "https://localhost:8080/"
        },
        "id": "MyOYP4O24Y4Q",
        "outputId": "363ffcb5-c044-4fad-c3cd-824f59d43ce0"
      },
      "execution_count": null,
      "outputs": [
        {
          "output_type": "execute_result",
          "data": {
            "text/plain": [
              "array([[ 0.82737724, -0.56573646,  0.43279337, ...,  0.        ,\n",
              "         0.        ,  1.        ],\n",
              "       [-1.56610693,  0.66386103,  0.43279337, ...,  1.        ,\n",
              "         0.        ,  0.        ],\n",
              "       [ 0.82737724, -0.25833709, -0.4745452 , ...,  0.        ,\n",
              "         0.        ,  1.        ],\n",
              "       ...,\n",
              "       [ 0.82737724, -0.1046374 ,  0.43279337, ...,  0.        ,\n",
              "         0.        ,  1.        ],\n",
              "       [-1.56610693, -0.25833709, -0.4745452 , ...,  1.        ,\n",
              "         0.        ,  0.        ],\n",
              "       [ 0.82737724,  0.20276197, -0.4745452 , ...,  0.        ,\n",
              "         1.        ,  0.        ]])"
            ]
          },
          "metadata": {},
          "execution_count": 24
        }
      ]
    },
    {
      "cell_type": "code",
      "source": [
        "'''\n",
        "from sklearn.tree import DecisionTreeClassifier\n",
        "from sklearn.metrics import accuracy_score\n",
        "\n",
        "pipetotal = Pipeline([\n",
        "    ('preproc', preproc),\n",
        "    ('arvore', DecisionTreeClassifier())\n",
        "])\n",
        "\n",
        "pipetotal.fit(X, y)\n",
        "ypred = pipetotal.predict(X)\n",
        "accuracy_score(y, ypred)\n",
        "'''"
      ],
      "metadata": {
        "colab": {
          "base_uri": "https://localhost:8080/"
        },
        "id": "Q6ZLiIzo5Q10",
        "outputId": "0a9e6ac3-a7fd-41fd-efad-e009946c57de"
      },
      "execution_count": null,
      "outputs": [
        {
          "output_type": "execute_result",
          "data": {
            "text/plain": [
              "0.9797979797979798"
            ]
          },
          "metadata": {},
          "execution_count": 72
        }
      ]
    },
    {
      "cell_type": "code",
      "source": [
        "from sklearn.ensemble import ExtraTreesClassifier\n",
        "from sklearn.metrics import accuracy_score\n",
        "\n",
        "pipetotal = Pipeline([\n",
        "    ('preproc', preproc),\n",
        "    ('extratree', ExtraTreesClassifier(random_state=42))\n",
        "])\n",
        "\n",
        "pipetotal.fit(X, y)\n",
        "ypred = pipetotal.predict(X)\n",
        "accuracy_score(y, ypred)"
      ],
      "metadata": {
        "colab": {
          "base_uri": "https://localhost:8080/"
        },
        "id": "hO7-DYE3PJeI",
        "outputId": "3adaf10a-4899-457b-9fe6-596485366df0"
      },
      "execution_count": null,
      "outputs": [
        {
          "output_type": "execute_result",
          "data": {
            "text/plain": [
              "0.9797979797979798"
            ]
          },
          "metadata": {},
          "execution_count": 27
        }
      ]
    },
    {
      "cell_type": "code",
      "source": [
        "import numpy as np\n",
        "from sklearn.model_selection import cross_validate\n",
        "\n",
        "scores = cross_validate(pipetotal, X, y)\n",
        "scores, np.mean(scores['test_score'])"
      ],
      "metadata": {
        "colab": {
          "base_uri": "https://localhost:8080/"
        },
        "id": "f5rUxhYcPkd7",
        "outputId": "a644a080-c743-476a-a7ba-3ad6eb92bd4e"
      },
      "execution_count": null,
      "outputs": [
        {
          "output_type": "execute_result",
          "data": {
            "text/plain": [
              "({'fit_time': array([0.31114268, 0.28230143, 0.29775786, 0.30600762, 0.30603409]),\n",
              "  'score_time': array([0.01697898, 0.01988029, 0.01692629, 0.01902556, 0.01895666]),\n",
              "  'test_score': array([0.77653631, 0.7752809 , 0.83707865, 0.78089888, 0.80337079])},\n",
              " 0.7946331052664617)"
            ]
          },
          "metadata": {},
          "execution_count": 28
        }
      ]
    },
    {
      "cell_type": "code",
      "source": [
        "pipetotal.fit(X, y)\n",
        "ypred = pipetotal.predict(test)\n",
        "\n",
        "submission = pd.read_csv('gender_submission.csv')\n",
        "submission['Survived'] = ypred\n",
        "submission.to_csv('extratree_submission.csv', index=False)"
      ],
      "metadata": {
        "id": "OcCU7qSy61jH"
      },
      "execution_count": null,
      "outputs": []
    },
    {
      "cell_type": "code",
      "source": [
        "from sklearn.ensemble import AdaBoostClassifier\n",
        "from sklearn.tree import DecisionTreeClassifier\n",
        "from sklearn.metrics import accuracy_score\n",
        "\n",
        "pipetotal = Pipeline([\n",
        "    ('preproc', preproc),\n",
        "    ('ada', AdaBoostClassifier(DecisionTreeClassifier(max_depth=25, splitter='random'),\n",
        "                            learning_rate=0.15, random_state=42))\n",
        "])\n",
        "\n",
        "pipetotal.fit(X, y)\n",
        "ypred = pipetotal.predict(X)\n",
        "accuracy_score(y, ypred)\n"
      ],
      "metadata": {
        "colab": {
          "base_uri": "https://localhost:8080/"
        },
        "id": "jT1Tg6xfQk-9",
        "outputId": "62e50778-a9f9-4684-d781-7c48cf771e6a"
      },
      "execution_count": null,
      "outputs": [
        {
          "output_type": "execute_result",
          "data": {
            "text/plain": [
              "0.9797979797979798"
            ]
          },
          "metadata": {},
          "execution_count": 31
        }
      ]
    },
    {
      "cell_type": "code",
      "source": [
        "import numpy as np\n",
        "from sklearn.model_selection import cross_validate\n",
        "\n",
        "scores = cross_validate(pipetotal, X, y)\n",
        "scores, np.mean(scores['test_score'])"
      ],
      "metadata": {
        "colab": {
          "base_uri": "https://localhost:8080/"
        },
        "id": "_6ieXN1ARUqf",
        "outputId": "1afa2d78-6bcf-4755-fb89-c5dad2f387c4"
      },
      "execution_count": null,
      "outputs": [
        {
          "output_type": "execute_result",
          "data": {
            "text/plain": [
              "({'fit_time': array([0.31293964, 0.31055093, 0.31753063, 0.28379464, 0.31152558]),\n",
              "  'score_time': array([0.03094316, 0.03153896, 0.03437161, 0.02750516, 0.02971935]),\n",
              "  'test_score': array([0.77653631, 0.76404494, 0.8258427 , 0.7752809 , 0.8258427 ])},\n",
              " 0.7935095097608437)"
            ]
          },
          "metadata": {},
          "execution_count": 32
        }
      ]
    },
    {
      "cell_type": "code",
      "source": [
        "pipetotal.fit(X, y)\n",
        "ypred = pipetotal.predict(test)\n",
        "\n",
        "submission = pd.read_csv('gender_submission.csv')\n",
        "submission['Survived'] = ypred\n",
        "submission.to_csv('ada_submission.csv', index=False)"
      ],
      "metadata": {
        "id": "drEgYxiERZC3"
      },
      "execution_count": null,
      "outputs": []
    },
    {
      "cell_type": "code",
      "source": [
        "from sklearn.neighbors import KNeighborsClassifier\n",
        "from sklearn.naive_bayes import GaussianNB\n",
        "from sklearn.linear_model import Perceptron\n",
        "from sklearn.ensemble import RandomForestClassifier\n",
        "from sklearn.ensemble import VotingClassifier\n",
        "from sklearn.ensemble import StackingClassifier\n",
        "from sklearn.metrics import accuracy_score\n",
        "from sklearn.preprocessing import FunctionTransformer\n",
        "from scipy.sparse import issparse\n",
        "\n",
        "# Custom transformer to convert sparse matrix to dense\n",
        "def to_dense(X):\n",
        "    if issparse(X):\n",
        "        return X.toarray()\n",
        "    else:\n",
        "        return X\n",
        "\n",
        "voting = VotingClassifier([\n",
        "    ('knn', KNeighborsClassifier()),\n",
        "    ('gnb', GaussianNB()),\n",
        "    ('per', Perceptron())\n",
        "])\n",
        "\n",
        "\n",
        "pipetotal = Pipeline([\n",
        "    ('preproc', preproc),\n",
        "    ('to_dense', FunctionTransformer(to_dense, validate=False)),\n",
        "    ('voting', voting)\n",
        "])\n",
        "\n",
        "\n",
        "pipetotal.fit(X, y)\n",
        "ypred = pipetotal.predict(X)\n",
        "accuracy_score(y, ypred)\n",
        "\n",
        "\n"
      ],
      "metadata": {
        "colab": {
          "base_uri": "https://localhost:8080/"
        },
        "id": "Rmh4tIXKRuLg",
        "outputId": "02430ed4-21b0-4342-f316-9d9415b20222"
      },
      "execution_count": null,
      "outputs": [
        {
          "output_type": "execute_result",
          "data": {
            "text/plain": [
              "0.8204264870931538"
            ]
          },
          "metadata": {},
          "execution_count": 57
        }
      ]
    },
    {
      "cell_type": "code",
      "source": [
        "import numpy as np\n",
        "from sklearn.model_selection import cross_validate\n",
        "\n",
        "scores = cross_validate(pipetotal, X, y)\n",
        "scores, np.mean(scores['test_score'])"
      ],
      "metadata": {
        "colab": {
          "base_uri": "https://localhost:8080/"
        },
        "id": "AQQZB9z0ZFGV",
        "outputId": "d8873878-e204-46e7-87be-dbf8a8082bbb"
      },
      "execution_count": null,
      "outputs": [
        {
          "output_type": "execute_result",
          "data": {
            "text/plain": [
              "({'fit_time': array([0.02610183, 0.02092838, 0.01980114, 0.0187068 , 0.01898265]),\n",
              "  'score_time': array([0.02319551, 0.02149796, 0.02342963, 0.01978803, 0.0201304 ]),\n",
              "  'test_score': array([0.79329609, 0.79775281, 0.80898876, 0.80898876, 0.8258427 ])},\n",
              " 0.8069738246186681)"
            ]
          },
          "metadata": {},
          "execution_count": 58
        }
      ]
    },
    {
      "cell_type": "code",
      "source": [
        "pipetotal.fit(X, y)\n",
        "ypred = pipetotal.predict(test)\n",
        "\n",
        "submission = pd.read_csv('gender_submission.csv')\n",
        "submission['Survived'] = ypred\n",
        "submission.to_csv('voting_submission.csv', index=False)"
      ],
      "metadata": {
        "id": "4Sjd3PXdZIgd"
      },
      "execution_count": null,
      "outputs": []
    },
    {
      "cell_type": "code",
      "source": [
        "from sklearn.neighbors import KNeighborsClassifier\n",
        "from sklearn.naive_bayes import GaussianNB\n",
        "from sklearn.linear_model import Perceptron\n",
        "from sklearn.ensemble import RandomForestClassifier\n",
        "from sklearn.ensemble import ExtraTreesClassifier\n",
        "from sklearn.ensemble import VotingClassifier\n",
        "from sklearn.ensemble import StackingClassifier\n",
        "from sklearn.metrics import accuracy_score\n",
        "from sklearn.preprocessing import FunctionTransformer\n",
        "from scipy.sparse import issparse\n",
        "\n",
        "# Custom transformer to convert sparse matrix to dense\n",
        "def to_dense(X):\n",
        "    if issparse(X):\n",
        "        return X.toarray()\n",
        "    else:\n",
        "        return X\n",
        "\n",
        "voting = VotingClassifier([\n",
        "    ('knn', KNeighborsClassifier()),\n",
        "    ('gnb', GaussianNB()),\n",
        "    ('per', Perceptron())\n",
        "])\n",
        "\n",
        "stacking = StackingClassifier([\n",
        "    ('voting', voting),\n",
        "    ('extrat', ExtraTreesClassifier()),\n",
        "    ('ranfor', RandomForestClassifier())\n",
        "], cv=3, passthrough=True)\n",
        "\n",
        "\n",
        "pipetotal = Pipeline([\n",
        "    ('preproc', preproc),\n",
        "    ('to_dense', FunctionTransformer(to_dense, validate=False)),\n",
        "    ('stacking', stacking)\n",
        "])\n",
        "\n",
        "\n",
        "pipetotal.fit(X, y)\n",
        "ypred = pipetotal.predict(X)\n",
        "accuracy_score(y, ypred)"
      ],
      "metadata": {
        "colab": {
          "base_uri": "https://localhost:8080/"
        },
        "id": "QH6gB633ZZoL",
        "outputId": "2e04aba5-5bdc-4714-98b3-0a37e8bddd66"
      },
      "execution_count": null,
      "outputs": [
        {
          "output_type": "execute_result",
          "data": {
            "text/plain": [
              "0.9012345679012346"
            ]
          },
          "metadata": {},
          "execution_count": 60
        }
      ]
    },
    {
      "cell_type": "code",
      "source": [
        "import numpy as np\n",
        "from sklearn.model_selection import cross_validate\n",
        "\n",
        "scores = cross_validate(pipetotal, X, y)\n",
        "scores, np.mean(scores['test_score'])"
      ],
      "metadata": {
        "colab": {
          "base_uri": "https://localhost:8080/"
        },
        "id": "OyBtE6HvZ7rG",
        "outputId": "062f42e2-7541-493b-cfc6-1020132309c8"
      },
      "execution_count": null,
      "outputs": [
        {
          "output_type": "execute_result",
          "data": {
            "text/plain": [
              "({'fit_time': array([1.58621192, 1.48875022, 2.18317318, 2.38982177, 1.51538825]),\n",
              "  'score_time': array([0.07032371, 0.06367493, 0.12795711, 0.10480428, 0.05845094]),\n",
              "  'test_score': array([0.80446927, 0.80898876, 0.83146067, 0.79775281, 0.83146067])},\n",
              " 0.8148264390182662)"
            ]
          },
          "metadata": {},
          "execution_count": 61
        }
      ]
    },
    {
      "cell_type": "code",
      "source": [
        "pipetotal.fit(X, y)\n",
        "ypred = pipetotal.predict(test)\n",
        "\n",
        "submission = pd.read_csv('gender_submission.csv')\n",
        "submission['Survived'] = ypred\n",
        "submission.to_csv('stacking_submission.csv', index=False)"
      ],
      "metadata": {
        "id": "21FtzWExZ_tZ"
      },
      "execution_count": null,
      "outputs": []
    },
    {
      "cell_type": "code",
      "source": [
        "from sklearn.metrics import accuracy_score\n",
        "from sklearn.preprocessing import FunctionTransformer\n",
        "from scipy.sparse import issparse\n",
        "from sklearn.ensemble import RandomForestClassifier, GradientBoostingClassifier\n",
        "from sklearn.linear_model import LogisticRegression\n",
        "from sklearn.ensemble import VotingClassifier, StackingClassifier\n",
        "\n",
        "# Custom transformer to convert sparse matrix to dense\n",
        "def to_dense(X):\n",
        "    if issparse(X):\n",
        "        return X.toarray()\n",
        "    else:\n",
        "        return X\n",
        "\n",
        "# Create individual classifiers\n",
        "rf_classifier = RandomForestClassifier(n_estimators=100, random_state=42)\n",
        "gb_classifier = GradientBoostingClassifier(n_estimators=100, random_state=42)\n",
        "lr_classifier = LogisticRegression(random_state=42)\n",
        "\n",
        "# Create the Stacking Classifier\n",
        "stacking_classifier = StackingClassifier(\n",
        "    estimators=[('rf', rf_classifier), ('gb', gb_classifier), ('lr', lr_classifier)],\n",
        "    final_estimator=LogisticRegression(),\n",
        "    stack_method='auto',\n",
        "    cv=5  # Number of cross-validation folds\n",
        ")\n",
        "\n",
        "\n",
        "pipetotal = Pipeline([\n",
        "    ('preproc', preproc),\n",
        "    ('to_dense', FunctionTransformer(to_dense, validate=False)),\n",
        "    ('stacking', stacking_classifier)\n",
        "])\n",
        "\n",
        "\n",
        "pipetotal.fit(X, y)\n",
        "ypred = pipetotal.predict(X)\n",
        "accuracy_score(y, ypred)"
      ],
      "metadata": {
        "colab": {
          "base_uri": "https://localhost:8080/"
        },
        "id": "qtKVjY6Sa13j",
        "outputId": "3df7e009-d581-40c7-b758-9f4d2cc56016"
      },
      "execution_count": null,
      "outputs": [
        {
          "output_type": "execute_result",
          "data": {
            "text/plain": [
              "0.9236812570145904"
            ]
          },
          "metadata": {},
          "execution_count": 63
        }
      ]
    },
    {
      "cell_type": "code",
      "source": [
        "import numpy as np\n",
        "from sklearn.model_selection import cross_validate\n",
        "\n",
        "scores = cross_validate(pipetotal, X, y)\n",
        "scores, np.mean(scores['test_score'])"
      ],
      "metadata": {
        "colab": {
          "base_uri": "https://localhost:8080/"
        },
        "id": "I8zQTcxDbcl7",
        "outputId": "faf2dc84-88b0-4540-8595-f2502ad21e51"
      },
      "execution_count": null,
      "outputs": [
        {
          "output_type": "execute_result",
          "data": {
            "text/plain": [
              "({'fit_time': array([3.911304  , 2.64719343, 2.01088524, 2.03190637, 2.00957155]),\n",
              "  'score_time': array([0.02825141, 0.01695561, 0.01870561, 0.01747918, 0.01844501]),\n",
              "  'test_score': array([0.82122905, 0.8258427 , 0.8258427 , 0.80337079, 0.85955056])},\n",
              " 0.8271671583704727)"
            ]
          },
          "metadata": {},
          "execution_count": 64
        }
      ]
    },
    {
      "cell_type": "code",
      "source": [
        "pipetotal.fit(X, y)\n",
        "ypred = pipetotal.predict(test)\n",
        "\n",
        "submission = pd.read_csv('gender_submission.csv')\n",
        "submission['Survived'] = ypred\n",
        "submission.to_csv('stacking2_submission.csv', index=False)"
      ],
      "metadata": {
        "id": "KMEzpaX6bji6"
      },
      "execution_count": null,
      "outputs": []
    },
    {
      "cell_type": "markdown",
      "source": [
        "![image.png](data:image/png;base64,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)"
      ],
      "metadata": {
        "id": "4WCLHBOIdYC0"
      }
    },
    {
      "cell_type": "markdown",
      "source": [
        "Conforme verificamos, usando extratree classifier , ada classifier , voting classifier e o primeiro stacking classifier, não batemos o score das submissões anteriores (forest_gscv e forest). Criando um segundo stacking classifier consegui ter um desempenho melhor, batendo todos os outros. Este novo stacking classifier (stacking2_submission.csv) utilizou outros classificadores, como RandomForestClassifier, GradientBoostingClassifier e LogisticRegression."
      ],
      "metadata": {
        "id": "GJ8QgqjHdu4Y"
      }
    }
  ]
}